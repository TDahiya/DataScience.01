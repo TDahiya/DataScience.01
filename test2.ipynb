{
 "cells": [
  {
   "cell_type": "code",
   "execution_count": 11,
   "metadata": {},
   "outputs": [],
   "source": [
    "import pandas as pd\n",
    "import os\n",
    "import nltk\n",
    "from nltk.tokenize import word_tokenize, sent_tokenize\n",
    "import re"
   ]
  },
  {
   "cell_type": "code",
   "execution_count": 12,
   "metadata": {},
   "outputs": [
    {
     "name": "stderr",
     "output_type": "stream",
     "text": [
      "[nltk_data] Downloading package punkt to\n",
      "[nltk_data]     C:\\Users\\tanib\\AppData\\Roaming\\nltk_data...\n",
      "[nltk_data]   Package punkt is already up-to-date!\n"
     ]
    },
    {
     "data": {
      "text/plain": [
       "True"
      ]
     },
     "execution_count": 12,
     "metadata": {},
     "output_type": "execute_result"
    }
   ],
   "source": [
    "nltk.download('punkt')\n"
   ]
  },
  {
   "cell_type": "code",
   "execution_count": 15,
   "metadata": {},
   "outputs": [],
   "source": [
    "stop_words_combined = set()\n",
    "\n",
    "stopwords_folder_path = \"stopwords\"\n",
    "for filename in os.listdir(stopwords_folder_path):\n",
    "    if filename.endswith(\".txt\"):\n",
    "        with open(os.path.join(stopwords_folder_path, filename), \"r\") as file:\n",
    "            stop_words_combined.update(file.read().splitlines())"
   ]
  },
  {
   "cell_type": "code",
   "execution_count": 18,
   "metadata": {},
   "outputs": [],
   "source": [
    "with open(\"MasterDictionary/positive-words.txt\", \"r\") as file:\n",
    "    positive_words = set(file.read().splitlines())\n",
    "\n",
    "with open(\"MasterDictionary/negative-words.txt\", \"r\") as file:\n",
    "    negative_words = set(file.read().splitlines())"
   ]
  },
  {
   "cell_type": "code",
   "execution_count": 19,
   "metadata": {},
   "outputs": [],
   "source": [
    "input_data = pd.read_excel(\"Input - Copy.xlsx\")"
   ]
  },
  {
   "cell_type": "code",
   "execution_count": 20,
   "metadata": {},
   "outputs": [],
   "source": [
    "def compute_complex_word_count(text, stop_words):\n",
    "    tokens = word_tokenize(text)\n",
    "    complex_words = [word for word in tokens if len(word) > 2 and word not in stop_words]\n",
    "    return len(complex_words)"
   ]
  },
  {
   "cell_type": "code",
   "execution_count": 21,
   "metadata": {},
   "outputs": [],
   "source": [
    "def compute_syllable_per_word(word):\n",
    "    syllables = re.findall(r'[aeiouAEIOU]+', word)\n",
    "    exceptions = re.findall(r'\\b\\w*es\\b|\\b\\w*ed\\b', word)\n",
    "    return len(syllables) - len(exceptions)"
   ]
  },
  {
   "cell_type": "code",
   "execution_count": 25,
   "metadata": {},
   "outputs": [],
   "source": [
    "def perform_textual_analysis(folder_path, stop_words_combined, positive_words, negative_words):\n",
    "    for filename in os.listdir(folder_path):\n",
    "        if filename.endswith(\".txt\"):\n",
    "            with open(os.path.join(folder_path, filename), \"r\", encoding=\"utf-8\") as file:\n",
    "                text = file.read()\n",
    "                sentences = sent_tokenize(text)\n",
    "                words = word_tokenize(text)\n",
    "                # Remove stop words\n",
    "                words = [word for word in words if word not in stop_words_combined]\n",
    "                word_count = len(words)\n",
    "                sentence_count = len(sentences)\n",
    "                avg_sentence_length =round(word_count / sentence_count,2)\n",
    "                complex_word_count = compute_complex_word_count(text, stop_words_combined)\n",
    "                percentage_complex_words = round((complex_word_count / word_count) * 100, 2)\n",
    "                fog_index = round(0.4 * (avg_sentence_length + percentage_complex_words), 2)\n",
    "                avg_words_per_sentence = round(word_count / sentence_count, 2)\n",
    "                syllable_count_per_word = round(sum(compute_syllable_per_word(word) for word in words) / word_count, 2)\n",
    "                # Calculate positive and negative scores\n",
    "                positive_score = sum(1 for word in words if word in positive_words)\n",
    "                negative_score = sum(1 for word in words if word in negative_words)\n",
    "                polarity_score = (positive_score - negative_score) / ((positive_score + negative_score) + 0.000001)\n",
    "                subjectivity_score = (positive_score + negative_score) / (word_count + 0.000001)\n",
    "                url_id = filename.split(\".\")[0]\n",
    "                # Update input_data DataFrame with computed values\n",
    "                input_data.loc[input_data['URL_ID'] == url_id, 'Complex Word Count'] = complex_word_count\n",
    "                input_data.loc[input_data['URL_ID'] == url_id, 'Word Count'] = word_count\n",
    "                input_data.loc[input_data['URL_ID'] == url_id, 'Avg Sentence Length'] = avg_sentence_length\n",
    "                input_data.loc[input_data['URL_ID'] == url_id, 'Percentage of Complex Words'] = percentage_complex_words\n",
    "                input_data.loc[input_data['URL_ID'] == url_id, 'Fog Index'] = fog_index\n",
    "                input_data.loc[input_data['URL_ID'] == url_id, 'Avg Number of Words Per Sentence'] = avg_words_per_sentence\n",
    "                input_data.loc[input_data['URL_ID'] == url_id, 'Syllable Per Word'] = syllable_count_per_word\n",
    "                input_data.loc[input_data['URL_ID'] == url_id, 'Positive Score'] = positive_score\n",
    "                input_data.loc[input_data['URL_ID'] == url_id, 'Negative Score'] = negative_score\n",
    "                input_data.loc[input_data['URL_ID'] == url_id, 'Polarity Score'] = polarity_score\n",
    "                input_data.loc[input_data['URL_ID'] == url_id, 'Subjectivity Score'] = subjectivity_score"
   ]
  },
  {
   "cell_type": "code",
   "execution_count": 26,
   "metadata": {},
   "outputs": [],
   "source": [
    "perform_textual_analysis(\"extracted_data\", stop_words_combined, positive_words, negative_words)"
   ]
  },
  {
   "cell_type": "code",
   "execution_count": 28,
   "metadata": {},
   "outputs": [],
   "source": [
    "input_data.to_excel(\"Input - Copy.xlsx\", index=False)"
   ]
  },
  {
   "cell_type": "code",
   "execution_count": null,
   "metadata": {},
   "outputs": [],
   "source": []
  }
 ],
 "metadata": {
  "kernelspec": {
   "display_name": "Python 3",
   "language": "python",
   "name": "python3"
  },
  "language_info": {
   "codemirror_mode": {
    "name": "ipython",
    "version": 3
   },
   "file_extension": ".py",
   "mimetype": "text/x-python",
   "name": "python",
   "nbconvert_exporter": "python",
   "pygments_lexer": "ipython3",
   "version": "3.11.0"
  }
 },
 "nbformat": 4,
 "nbformat_minor": 2
}
